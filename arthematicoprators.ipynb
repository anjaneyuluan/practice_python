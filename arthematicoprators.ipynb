{
 "cells": [
  {
   "cell_type": "markdown",
   "metadata": {},
   "source": [
    "Operator\tName\t        Example\t   \n",
    "+\t        Addition\t    x + y\t\n",
    "-\t        Subtraction\t    x - y\t\n",
    "*\t        Multiplication\tx * y\t\n",
    "/\t        Division\t    x / y\t\n",
    "%\t        Modulus     \tx % y\t\n",
    "**\t        Exponentiation\tx ** y\t\n",
    "//\t        Floor division\tx // y     "
   ]
  },
  {
   "cell_type": "code",
   "execution_count": null,
   "metadata": {},
   "outputs": [],
   "source": [
    "num1 = 10\n",
    "num2 = 3"
   ]
  },
  {
   "cell_type": "code",
   "execution_count": null,
   "metadata": {},
   "outputs": [],
   "source": [
    "num1+num2"
   ]
  }
 ],
 "metadata": {
  "language_info": {
   "name": "python"
  }
 },
 "nbformat": 4,
 "nbformat_minor": 2
}
